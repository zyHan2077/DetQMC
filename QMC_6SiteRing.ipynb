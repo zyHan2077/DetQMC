{
 "cells": [
  {
   "cell_type": "code",
   "execution_count": 1,
   "metadata": {},
   "outputs": [
    {
     "data": {
      "text/plain": [
       "SsqureObs (generic function with 1 method)"
      ]
     },
     "execution_count": 1,
     "metadata": {},
     "output_type": "execute_result"
    }
   ],
   "source": [
    "import PyPlot; const plt = PyPlot\n",
    "using ProgressMeter\n",
    "using FileIO\n",
    "using Logging\n",
    "include(\"./DQMC.jl\")\n",
    "include(\"./KinecticReader.jl\")\n",
    "# using .DQMC\n",
    "import Statistics\n",
    "\n",
    "const dtype = ComplexF64\n",
    "\n",
    "function SsqureObs(x::DQMCWalker, scheme)\n",
    "    sum = 0\n",
    "    for i in 1:scheme.Nsite\n",
    "        sum += 2*(1 - x.glTemp[i, i]) * x.glTemp[i, i]\n",
    "    end\n",
    "    return 0.75 * sum / scheme.Nsite\n",
    "end"
   ]
  },
  {
   "cell_type": "code",
   "execution_count": 2,
   "metadata": {},
   "outputs": [
    {
     "data": {
      "text/plain": [
       "Base.CoreLogging.SimpleLogger(IJulia.IJuliaStdio{Base.PipeEndpoint}(IOContext(Base.PipeEndpoint(RawFD(46) open, 0 bytes waiting))), Info, Dict{Any, Int64}())"
      ]
     },
     "execution_count": 2,
     "metadata": {},
     "output_type": "execute_result"
    }
   ],
   "source": [
    "debuglogger = ConsoleLogger(stderr, Logging.Info)\n",
    "global_logger(debuglogger)"
   ]
  },
  {
   "cell_type": "code",
   "execution_count": 3,
   "metadata": {},
   "outputs": [
    {
     "data": {
      "text/plain": [
       "ringS2QMC (generic function with 1 method)"
      ]
     },
     "execution_count": 3,
     "metadata": {},
     "output_type": "execute_result"
    }
   ],
   "source": [
    "function ringS2QMC(beta, U, deltaTau, thermalizationTime, iterationTime)\n",
    "    nx = 6\n",
    "    ny = 1\n",
    "    Δτ = deltaTau\n",
    "    β = beta\n",
    "    nflavor = 2\n",
    "\n",
    "    # M, lattice length in imaginary time direction\n",
    "    M = Int((β+0.01) ÷ Δτ)\n",
    "    println(M)\n",
    "\n",
    "#     thermalizationTime = 200\n",
    "#     iterationTime = 10000\n",
    "    # samplesPerIter = 20\n",
    "\n",
    "    Nsites, Kinectic = BuildKinecticFromYAML(\"1dRingHamiltonian.yml\", nx, ny, dtype)\n",
    "    schemeSU2N = DQMCScheme{dtype}(Nsites, nflavor, M, Δτ, Kinectic)\n",
    "    paramsAux = AuxFieldUpdaterParams{dtype}(U, schemeSU2N)\n",
    "    x = initializeWalker(schemeSU2N, paramsAux);\n",
    "\n",
    "    @showprogress for i in 1:thermalizationTime\n",
    "        walkerMarkovMove!(x, paramsAux, schemeSU2N)\n",
    "        # println()\n",
    "    end\n",
    "\n",
    "    s2 = Vector{dtype}(undef, iterationTime)\n",
    "\n",
    "    @showprogress for i in 1:iterationTime\n",
    "        walkerMarkovMove!(x, paramsAux, schemeSU2N)\n",
    "        s2[i] = SsqureObs(x, schemeSU2N)\n",
    "    end\n",
    "\n",
    "    s2\n",
    "end"
   ]
  },
  {
   "cell_type": "code",
   "execution_count": null,
   "metadata": {},
   "outputs": [],
   "source": [
    "tau = 0.125\n",
    "betas = [2, 3, 4, 5, 6, 7, 8, 12, 16, 32, 60] * tau\n",
    "# betas = 1.0 ./ [2.4 + 0.1 * x for x in 1:11]\n",
    "s2_list = []\n",
    "s2_std_list = []\n",
    "for beta in betas\n",
    "    s2 = ringS2QMC(beta, 4.0, tau)\n",
    "    append!(s2_list, Statistics.mean(real.(s2)))\n",
    "    append!(s2_std_list, Statistics.std(real.(s2)) / sqrt(length(s2)))\n",
    "end"
   ]
  },
  {
   "cell_type": "code",
   "execution_count": 34,
   "metadata": {},
   "outputs": [],
   "source": [
    "# save(\"6siteRing_spin2_U=4.0_dtau=0.125.jld2\", Dict(\"beta\"=>betas, \"sSquare_mean\"=>s2_list, \"sSquare_std\"=>s2_std_list))\n",
    "# save(\"6siteRing_spin2_U=4.0_dtau=0.125.jld2\", x)"
   ]
  },
  {
   "cell_type": "code",
   "execution_count": 35,
   "metadata": {},
   "outputs": [
    {
     "data": {
      "text/plain": [
       "Dict{String, Any} with 2 entries:\n",
       "  \"sSquare_mean\" => Any[0.58347, 0.586659, 0.59357, 0.598725, 0.600817, 0.60041…\n",
       "  \"beta\"         => [10.0, 5.0, 3.33333, 2.5, 2.0, 1.66667, 1.42857, 1.25, 1.11…"
      ]
     },
     "execution_count": 35,
     "metadata": {},
     "output_type": "execute_result"
    }
   ],
   "source": [
    "x = load(\"6siteRing_spin2_U=4.0_dtau=0.125.jld2\")\n",
    "y = load(\"6siteRing_spin2_U=4.0_ED.jld2\")"
   ]
  },
  {
   "cell_type": "code",
   "execution_count": 36,
   "metadata": {},
   "outputs": [
    {
     "data": {
      "image/png": "[encoded data removed]",
      "text/plain": [
       "PyPlot.Figure(PyObject <Figure size 640x480 with 1 Axes>)"
      ]
     },
     "metadata": {},
     "output_type": "display_data"
    }
   ],
   "source": [
    "plt.errorbar(1.0 ./ x[\"beta\"], x[\"sSquare_mean\"], yerr=x[\"sSquare_std\"], ls=\"none\", marker=\"o\", capsize=5, label=\"QMC\")\n",
    "plt.plot(1.0 ./ y[\"beta\"], y[\"sSquare_mean\"], label=\"Exact Diagonalization\")\n",
    "plt.ylim((0.35,0.75))\n",
    "plt.xlim((0.0, 4.5))\n",
    "plt.legend()\n",
    "plt.show()"
   ]
  },
  {
   "cell_type": "code",
   "execution_count": 29,
   "metadata": {},
   "outputs": [
    {
     "name": "stdout",
     "output_type": "stream",
     "text": [
      "12\n"
     ]
    },
    {
     "name": "stderr",
     "output_type": "stream",
     "text": [
      "\u001b[32mProgress: 100%|█████████████████████████████████████████| Time: 0:00:00\u001b[39m\n",
      "\u001b[32mProgress: 100%|█████████████████████████████████████████| Time: 0:00:21\u001b[39m\n"
     ]
    }
   ],
   "source": [
    "tau= 0.125\n",
    "s2 = ringS2QMC(tau * 12, 4.0, tau, 1000, 50000);"
   ]
  },
  {
   "cell_type": "code",
   "execution_count": 30,
   "metadata": {},
   "outputs": [
    {
     "data": {
      "text/plain": [
       "(0.602784970083243, 0.004539833053834055)"
      ]
     },
     "execution_count": 30,
     "metadata": {},
     "output_type": "execute_result"
    }
   ],
   "source": [
    "Statistics.mean(real.(s2)), Statistics.std(real.(s2)) / sqrt(length(s2))"
   ]
  },
  {
   "cell_type": "code",
   "execution_count": 31,
   "metadata": {},
   "outputs": [
    {
     "data": {
      "text/plain": [
       "0.004539833053834055"
      ]
     },
     "execution_count": 31,
     "metadata": {},
     "output_type": "execute_result"
    }
   ],
   "source": [
    "x[\"sSquare_mean\"][8] = Statistics.mean(real.(s2))\n",
    "x[\"sSquare_std\"][8] = Statistics.std(real.(s2)) / sqrt(length(s2))"
   ]
  }
 ],
 "metadata": {
  "kernelspec": {
   "display_name": "Julia 1.6.0",
   "language": "julia",
   "name": "julia-1.6"
  },
  "language_info": {
   "file_extension": ".jl",
   "mimetype": "application/julia",
   "name": "julia",
   "version": "1.6.0"
  }
 },
 "nbformat": 4,
 "nbformat_minor": 4
}
