{
 "cells": [
  {
   "cell_type": "code",
   "execution_count": 157,
   "metadata": {},
   "outputs": [
    {
     "data": {
      "text/plain": [
       "addChemicalP! (generic function with 1 method)"
      ]
     },
     "execution_count": 157,
     "metadata": {},
     "output_type": "execute_result"
    }
   ],
   "source": [
    "using QuantumLattices\n",
    "using FileIO\n",
    "# using SymPy: symbols\n",
    "using ExactDiagonalization\n",
    "using LinearAlgebra\n",
    "\n",
    "function count1(x)\n",
    "    sum = 0\n",
    "    while x != 0\n",
    "        sum += x % 2\n",
    "        x = x ÷ 2\n",
    "    end\n",
    "    sum\n",
    "end\n",
    "\n",
    "function addChemicalP!(mu, m)\n",
    "    for i in 1:2^(2*N)\n",
    "        m[i, i] += mu * count1(i-1)\n",
    "    end\n",
    "end"
   ]
  },
  {
   "cell_type": "code",
   "execution_count": 159,
   "metadata": {},
   "outputs": [
    {
     "data": {
      "text/plain": [
       "Hubbard{4}(id=U, value=4.0, bondkind=0, factor=1.0)"
      ]
     },
     "execution_count": 159,
     "metadata": {},
     "output_type": "execute_result"
    }
   ],
   "source": [
    "N = 6\n",
    "\n",
    "unitcell = Lattice(:Ring,\n",
    "    [Point(PID(1), [0.0])],\n",
    "    vectors=[[1.0]],\n",
    "    neighbors=1\n",
    "    )\n",
    "\n",
    "lattice = Lattice(unitcell, translations\"6P\")\n",
    "hilbert = Hilbert(pid=>Fock{:f}(norbital=1, nspin=2) for pid in lattice.pids)\n",
    "\n",
    "t = Hopping(:t0, -1.0, 1)\n",
    "U = Hubbard(:U, 4.0)"
   ]
  },
  {
   "cell_type": "code",
   "execution_count": 160,
   "metadata": {},
   "outputs": [],
   "source": [
    "bases = BinaryBases(1:2*N)\n",
    "ed = ED(lattice, hilbert, (U, t), TargetSpace(bases))\n",
    "a = matrix(ed).matrix\n",
    "addChemicalP!(-2.0, a)"
   ]
  },
  {
   "cell_type": "code",
   "execution_count": 161,
   "metadata": {},
   "outputs": [],
   "source": [
    "ed_s2 = ED(lattice, hilbert, (Hubbard(:U, -2.0), Hopping(:t0, -0.0, 1)), TargetSpace(bases))\n",
    "O = matrix(ed_s2).matrix\n",
    "addChemicalP!(+1.0, O)"
   ]
  },
  {
   "cell_type": "code",
   "execution_count": 153,
   "metadata": {},
   "outputs": [
    {
     "name": "stdout",
     "output_type": "stream",
     "text": [
      "0.1 => 0.5834704016960006\n",
      "0.2 => 0.5866594414669681\n",
      "0.3 => 0.5935701458638133\n",
      "0.4 => 0.5987248933531623\n",
      "0.5 => 0.6008174714426087\n",
      "0.6 => 0.6004120076653501\n",
      "0.7 => 0.5981376162780363\n",
      "0.8 => 0.5944928499808774\n",
      "0.8999999999999999 => 0.5898678268565686\n",
      "1.0 => 0.5845691800072841\n",
      "1.1 => 0.578837136793515\n",
      "1.2 => 0.5728579602371566\n",
      "1.2999999999999998 => 0.5667738904766005\n",
      "1.4 => 0.5606915174319858\n",
      "1.5 => 0.5546889233298149\n",
      "1.6 => 0.5488217203022637\n",
      "1.7 => 0.5431280655880201\n",
      "1.7999999999999998 => 0.537632749711397\n",
      "1.9000000000000001 => 0.5323504714469417\n",
      "2.0 => 0.5272884217321018\n",
      "2.1 => 0.5224482958754713\n",
      "2.2 => 0.5178278428989377\n",
      "2.3000000000000003 => 0.5134220464917422\n",
      "2.4 => 0.5092240167168419\n",
      "2.5 => 0.5052256570525853\n",
      "2.5999999999999996 => 0.5014181584608568\n",
      "2.7 => 0.49779236125556026\n",
      "2.8 => 0.49433901658025337\n",
      "2.9 => 0.4910489720989252\n",
      "3.0 => 0.48791330080555406\n",
      "3.1 => 0.48492338740190916\n",
      "3.2 => 0.48207098323901754\n",
      "3.3 => 0.47934823815725697\n",
      "3.4 => 0.47674771552100115\n",
      "3.5 => 0.47426239518714486\n",
      "3.5999999999999996 => 0.4718856679612422\n",
      "3.6999999999999997 => 0.4696113241952243\n",
      "3.8000000000000003 => 0.4674335384983444\n",
      "3.9000000000000004 => 0.46534685201713094\n",
      "4.0 => 0.46334615335081575\n"
     ]
    }
   ],
   "source": [
    "betas = [10.0 / x for x in 1:40]\n",
    "result = []\n",
    "\n",
    "for beta in betas\n",
    "    x1 = tr(exp(Matrix(-beta*a)))\n",
    "    x2 = tr(Matrix(O) * exp(Matrix(-beta*a)))\n",
    "    println(1/beta, \" => \", (0.75 / N) * (x2 / x1))\n",
    "    append!(result, (0.75 / N) * (x2 / x1))\n",
    "end"
   ]
  }
 ],
 "metadata": {
  "kernelspec": {
   "display_name": "Julia 1.6.0",
   "language": "julia",
   "name": "julia-1.6"
  },
  "language_info": {
   "file_extension": ".jl",
   "mimetype": "application/julia",
   "name": "julia",
   "version": "1.6.0"
  }
 },
 "nbformat": 4,
 "nbformat_minor": 4
}
