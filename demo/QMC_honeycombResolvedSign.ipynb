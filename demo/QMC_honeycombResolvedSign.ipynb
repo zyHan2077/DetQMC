{
 "cells": [
  {
   "cell_type": "code",
   "execution_count": 5,
   "metadata": {},
   "outputs": [
    {
     "data": {
      "text/plain": [
       "signs (generic function with 1 method)"
      ]
     },
     "execution_count": 5,
     "metadata": {},
     "output_type": "execute_result"
    }
   ],
   "source": [
    "import PyPlot; const plt = PyPlot\n",
    "using ProgressMeter\n",
    "using FileIO\n",
    "using Logging\n",
    "include(\"../src/DQMC.jl\")\n",
    "include(\"../src/KinecticReader.jl\")\n",
    "import Statistics\n",
    "\n",
    "const dtype = ComplexF64\n",
    "\n",
    "function signs(x::DQMCWalker, scheme)\n",
    "    return x.individualWeight / abs(x.individualWeight), (x.individualWeight / abs(x.individualWeight))^(scheme.Nflavor)\n",
    "end"
   ]
  },
  {
   "cell_type": "code",
   "execution_count": 6,
   "metadata": {},
   "outputs": [
    {
     "data": {
      "text/plain": [
       "ConsoleLogger(IJulia.IJuliaStdio{Base.PipeEndpoint}(IOContext(Base.PipeEndpoint(RawFD(47) open, 0 bytes waiting))), Info, Logging.default_metafmt, true, 0, Dict{Any, Int64}())"
      ]
     },
     "execution_count": 6,
     "metadata": {},
     "output_type": "execute_result"
    }
   ],
   "source": [
    "# debuglogger = ConsoleLogger(stderr, Logging.Debug)\n",
    "debuglogger = ConsoleLogger(stderr, Logging.Info)\n",
    "global_logger(debuglogger)"
   ]
  },
  {
   "cell_type": "code",
   "execution_count": 12,
   "metadata": {},
   "outputs": [
    {
     "data": {
      "text/plain": [
       "honeycombSpinresolvedQMC (generic function with 1 method)"
      ]
     },
     "execution_count": 12,
     "metadata": {},
     "output_type": "execute_result"
    }
   ],
   "source": [
    "function honeycombSpinresolvedQMC(M, U, deltaTau, thermalizationTime, iterationTime, refreshInterval, L)\n",
    "    nx = L\n",
    "    ny = L\n",
    "    Δτ = deltaTau\n",
    "    nflavor = 2\n",
    "    \n",
    "    p = Progress(thermalizationTime + iterationTime, 2)\n",
    "    Nsites, Kinectic = BuildKinecticFromYAML(\"../src/hams/2dHoneycomb.yml\", nx, ny, dtype)\n",
    "    schemeSU2N = DQMCScheme{dtype}(Nsites, nflavor, M, Δτ, Kinectic)\n",
    "    paramsAux = AuxFieldUpdaterParams{dtype}(U, schemeSU2N)\n",
    "    x = initializeWalker(schemeSU2N, paramsAux, refreshInterval);\n",
    "\n",
    "    for i in 1:thermalizationTime\n",
    "        walkerMarkovMove!(x, paramsAux, schemeSU2N)\n",
    "        next!(p)\n",
    "    end\n",
    "\n",
    "    signInd = Vector{dtype}(undef, iterationTime)\n",
    "    signTot = Vector{dtype}(undef, iterationTime)\n",
    "    for i in 1:iterationTime\n",
    "        walkerMarkovMove!(x, paramsAux, schemeSU2N)\n",
    "        signInd[i], signTot[i] = signs(x, schemeSU2N)\n",
    "        next!(p)\n",
    "    end\n",
    "\n",
    "    signInd, signTot\n",
    "end"
   ]
  },
  {
   "cell_type": "markdown",
   "metadata": {},
   "source": [
    "$L = 6 \\times 6$ lattices, with $2 L^2 $ sites"
   ]
  },
  {
   "cell_type": "code",
   "execution_count": 18,
   "metadata": {},
   "outputs": [
    {
     "name": "stderr",
     "output_type": "stream",
     "text": [
      "\u001b[32mProgress: 100%|█████████████████████████████████████████| Time: 0:00:08\u001b[39m\n",
      "\u001b[32mProgress: 100%|█████████████████████████████████████████| Time: 0:00:27\u001b[39m\n",
      "\u001b[32mProgress: 100%|█████████████████████████████████████████| Time: 0:01:25\u001b[39m\n"
     ]
    }
   ],
   "source": [
    "tau = 0.1\n",
    "# betas = [2, 3, 4, 5, 6, 7, 8, 12, 16, 32, 60] * tau\n",
    "Ms = [2, 6, 16]\n",
    "L = 6\n",
    "U = 3.60\n",
    "\n",
    "sign_list = []\n",
    "sign_std_list = []\n",
    "signtot_list = []\n",
    "\n",
    "for M in Ms\n",
    "    signInd, signTot = honeycombSpinresolvedQMC(M, U, tau, 200, 1000, 20, L)\n",
    "    append!(sign_list, Statistics.mean(signInd))\n",
    "    append!(signtot_list, Statistics.mean(signTot))\n",
    "    append!(sign_std_list, Statistics.std(signInd) / sqrt(length(signInd)))\n",
    "end"
   ]
  },
  {
   "cell_type": "code",
   "execution_count": 19,
   "metadata": {},
   "outputs": [
    {
     "data": {
      "text/plain": [
       "3-element Vector{Any}:\n",
       " 1.0 - 1.826940123977788e-15im\n",
       " 1.0 + 1.2547568933287554e-14im\n",
       " 1.0 + 5.323978013160111e-14im"
      ]
     },
     "execution_count": 19,
     "metadata": {},
     "output_type": "execute_result"
    }
   ],
   "source": [
    "signtot_list"
   ]
  },
  {
   "cell_type": "code",
   "execution_count": 20,
   "metadata": {},
   "outputs": [
    {
     "data": {
      "image/png": "[encoded data removed]",
      "text/plain": [
       "PyPlot.Figure(PyObject <Figure size 640x480 with 1 Axes>)"
      ]
     },
     "metadata": {},
     "output_type": "display_data"
    }
   ],
   "source": [
    "plt.errorbar(Ms, abs.(sign_list), yerr=abs.(sign_std_list), ls=\"none\", marker=\"o\", capsize=5)\n",
    "plt.xlabel(\"\\$ L_{\\\\tau}\\$\")\n",
    "plt.ylabel(\"\\$\\\\langle S_\\\\sigma \\\\rangle\\$\")\n",
    "plt.show()"
   ]
  },
  {
   "cell_type": "code",
   "execution_count": null,
   "metadata": {},
   "outputs": [],
   "source": []
  }
 ],
 "metadata": {
  "kernelspec": {
   "display_name": "Julia 1.6.0",
   "language": "julia",
   "name": "julia-1.6"
  },
  "language_info": {
   "file_extension": ".jl",
   "mimetype": "application/julia",
   "name": "julia",
   "version": "1.6.0"
  }
 },
 "nbformat": 4,
 "nbformat_minor": 4
}
