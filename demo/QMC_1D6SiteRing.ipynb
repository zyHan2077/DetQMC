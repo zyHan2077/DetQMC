{
 "cells": [
  {
   "cell_type": "code",
   "execution_count": 1,
   "metadata": {},
   "outputs": [
    {
     "data": {
      "text/plain": [
       "SsqureObs (generic function with 1 method)"
      ]
     },
     "execution_count": 1,
     "metadata": {},
     "output_type": "execute_result"
    }
   ],
   "source": [
    "import PyPlot; const plt = PyPlot\n",
    "using ProgressMeter\n",
    "using FileIO\n",
    "using Logging\n",
    "include(\"../src/DQMC.jl\")\n",
    "include(\"../src/KinecticReader.jl\")\n",
    "import Statistics\n",
    "\n",
    "const dtype = ComplexF64\n",
    "\n",
    "function SsqureObs(x::DQMCWalker, scheme)\n",
    "    sum = 0\n",
    "    for i in 1:scheme.Nsite\n",
    "        sum += 2*(1 - x.glTemp[i, i]) * x.glTemp[i, i]\n",
    "    end\n",
    "    return 0.75 * sum / scheme.Nsite\n",
    "end"
   ]
  },
  {
   "cell_type": "code",
   "execution_count": 2,
   "metadata": {},
   "outputs": [
    {
     "data": {
      "text/plain": [
       "Base.CoreLogging.SimpleLogger(IJulia.IJuliaStdio{Base.PipeEndpoint}(IOContext(Base.PipeEndpoint(RawFD(45) open, 0 bytes waiting))), Info, Dict{Any, Int64}())"
      ]
     },
     "execution_count": 2,
     "metadata": {},
     "output_type": "execute_result"
    }
   ],
   "source": [
    "debuglogger = ConsoleLogger(stderr, Logging.Info)\n",
    "global_logger(debuglogger)"
   ]
  },
  {
   "cell_type": "code",
   "execution_count": 5,
   "metadata": {},
   "outputs": [
    {
     "data": {
      "text/plain": [
       "ringS2QMC (generic function with 1 method)"
      ]
     },
     "execution_count": 5,
     "metadata": {},
     "output_type": "execute_result"
    }
   ],
   "source": [
    "function ringS2QMC(beta, U, deltaTau, thermalizationTime, iterationTime, refreshInterval)\n",
    "    nx = 6\n",
    "    ny = 1\n",
    "    Δτ = deltaTau\n",
    "    β = beta\n",
    "    nflavor = 2\n",
    "\n",
    "    # M, lattice length in imaginary time direction\n",
    "    p = Progress(thermalizationTime + iterationTime, 2)\n",
    "    M = Int((β+0.01) ÷ Δτ)\n",
    "    println(M)\n",
    "\n",
    "    Nsites, Kinectic = BuildKinecticFromYAML(\"../src/hams/1dRingHamiltonian.yml\", nx, ny, dtype)\n",
    "    schemeSU2N = DQMCScheme{dtype}(Nsites, nflavor, M, Δτ, Kinectic)\n",
    "    paramsAux = AuxFieldUpdaterParams{dtype}(U, schemeSU2N)\n",
    "    x = initializeWalker(schemeSU2N, paramsAux, refreshInterval);\n",
    "\n",
    "    for i in 1:thermalizationTime\n",
    "        walkerMarkovMove!(x, paramsAux, schemeSU2N)\n",
    "        next!(p)\n",
    "    end\n",
    "\n",
    "    s2 = Vector{dtype}(undef, iterationTime)\n",
    "\n",
    "    for i in 1:iterationTime\n",
    "        walkerMarkovMove!(x, paramsAux, schemeSU2N)\n",
    "        s2[i] = SsqureObs(x, schemeSU2N)\n",
    "        next!(p)\n",
    "    end\n",
    "\n",
    "    s2\n",
    "end"
   ]
  },
  {
   "cell_type": "code",
   "execution_count": 10,
   "metadata": {},
   "outputs": [
    {
     "name": "stdout",
     "output_type": "stream",
     "text": [
      "2\n",
      "3\n",
      "4\n"
     ]
    },
    {
     "name": "stderr",
     "output_type": "stream",
     "text": [
      "\u001b[32mProgress: 100%|█████████████████████████████████████████| Time: 0:00:02\u001b[39m\n"
     ]
    },
    {
     "name": "stdout",
     "output_type": "stream",
     "text": [
      "5\n"
     ]
    },
    {
     "name": "stderr",
     "output_type": "stream",
     "text": [
      "\u001b[32mProgress: 100%|█████████████████████████████████████████| Time: 0:00:02\u001b[39m\n"
     ]
    },
    {
     "name": "stdout",
     "output_type": "stream",
     "text": [
      "6\n"
     ]
    },
    {
     "name": "stderr",
     "output_type": "stream",
     "text": [
      "\u001b[32mProgress: 100%|█████████████████████████████████████████| Time: 0:00:02\u001b[39m\n"
     ]
    },
    {
     "name": "stdout",
     "output_type": "stream",
     "text": [
      "7\n"
     ]
    },
    {
     "name": "stderr",
     "output_type": "stream",
     "text": [
      "\u001b[32mProgress: 100%|█████████████████████████████████████████| Time: 0:00:03\u001b[39m\n"
     ]
    },
    {
     "name": "stdout",
     "output_type": "stream",
     "text": [
      "8\n"
     ]
    },
    {
     "name": "stderr",
     "output_type": "stream",
     "text": [
      "\u001b[32mProgress: 100%|█████████████████████████████████████████| Time: 0:00:03\u001b[39m\n"
     ]
    },
    {
     "name": "stdout",
     "output_type": "stream",
     "text": [
      "12\n"
     ]
    },
    {
     "name": "stderr",
     "output_type": "stream",
     "text": [
      "\u001b[32mProgress: 100%|█████████████████████████████████████████| Time: 0:00:05\u001b[39m\n"
     ]
    },
    {
     "name": "stdout",
     "output_type": "stream",
     "text": [
      "16\n"
     ]
    },
    {
     "name": "stderr",
     "output_type": "stream",
     "text": [
      "\u001b[32mProgress: 100%|█████████████████████████████████████████| Time: 0:00:07\u001b[39m\n"
     ]
    },
    {
     "name": "stdout",
     "output_type": "stream",
     "text": [
      "32\n"
     ]
    },
    {
     "name": "stderr",
     "output_type": "stream",
     "text": [
      "\u001b[32mProgress: 100%|█████████████████████████████████████████| Time: 0:00:14\u001b[39m\n"
     ]
    },
    {
     "name": "stdout",
     "output_type": "stream",
     "text": [
      "60\n"
     ]
    },
    {
     "name": "stderr",
     "output_type": "stream",
     "text": [
      "\u001b[32mProgress: 100%|█████████████████████████████████████████| Time: 0:00:27\u001b[39m\n"
     ]
    }
   ],
   "source": [
    "tau = 0.125\n",
    "betas = [2, 3, 4, 5, 6, 7, 8, 12, 16, 32, 60] * tau\n",
    "s2_list = []\n",
    "s2_std_list = []\n",
    "for beta in betas\n",
    "    s2 = ringS2QMC(beta, 4.0, tau, 2000, 10000, 20)\n",
    "    append!(s2_list, Statistics.mean(real.(s2)))\n",
    "    append!(s2_std_list, Statistics.std(real.(s2)) / sqrt(length(s2)))\n",
    "end"
   ]
  },
  {
   "cell_type": "code",
   "execution_count": 11,
   "metadata": {},
   "outputs": [],
   "source": [
    "x = Dict(\"beta\"=>betas, \"sSquare_mean\"=>s2_list, \"sSquare_std\"=>s2_std_list)\n",
    "save(\"../data/6siteRing_spin2_U=4.0_dtau=0.125.jld2\", x)"
   ]
  },
  {
   "cell_type": "code",
   "execution_count": 12,
   "metadata": {},
   "outputs": [
    {
     "data": {
      "text/plain": [
       "Dict{String, Any} with 2 entries:\n",
       "  \"sSquare_mean\" => Any[0.58347, 0.586659, 0.59357, 0.598725, 0.600817, 0.60041…\n",
       "  \"beta\"         => [10.0, 5.0, 3.33333, 2.5, 2.0, 1.66667, 1.42857, 1.25, 1.11…"
      ]
     },
     "execution_count": 12,
     "metadata": {},
     "output_type": "execute_result"
    }
   ],
   "source": [
    "y = load(\"../data/6siteRing_spin2_U=4.0_ED.jld2\")"
   ]
  },
  {
   "cell_type": "code",
   "execution_count": 13,
   "metadata": {},
   "outputs": [
    {
     "data": {
      "image/png": "[encoded data removed]",
      "text/plain": [
       "PyPlot.Figure(PyObject <Figure size 640x480 with 1 Axes>)"
      ]
     },
     "metadata": {},
     "output_type": "display_data"
    }
   ],
   "source": [
    "plt.errorbar(1.0 ./ x[\"beta\"], x[\"sSquare_mean\"], yerr=x[\"sSquare_std\"], ls=\"none\", marker=\"o\", capsize=5, label=\"QMC\")\n",
    "plt.plot(1.0 ./ y[\"beta\"], y[\"sSquare_mean\"], label=\"Exact Diagonalization\")\n",
    "plt.ylim((0.35,0.75))\n",
    "plt.xlim((0.0, 4.5))\n",
    "plt.legend()\n",
    "plt.show()"
   ]
  },
  {
   "cell_type": "code",
   "execution_count": null,
   "metadata": {},
   "outputs": [],
   "source": []
  }
 ],
 "metadata": {
  "kernelspec": {
   "display_name": "Julia 1.6.0",
   "language": "julia",
   "name": "julia-1.6"
  },
  "language_info": {
   "file_extension": ".jl",
   "mimetype": "application/julia",
   "name": "julia",
   "version": "1.6.0"
  }
 },
 "nbformat": 4,
 "nbformat_minor": 4
}
